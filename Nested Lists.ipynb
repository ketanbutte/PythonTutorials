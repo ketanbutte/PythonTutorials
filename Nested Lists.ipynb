{
 "cells": [
  {
   "cell_type": "code",
   "execution_count": 105,
   "id": "c48b4882",
   "metadata": {},
   "outputs": [],
   "source": [
    "# res = [['virat',45],['sehwag',34],['sachin',45],['rahul',54]]"
   ]
  },
  {
   "cell_type": "code",
   "execution_count": 121,
   "id": "d5d7c36b",
   "metadata": {},
   "outputs": [
    {
     "name": "stdout",
     "output_type": "stream",
     "text": [
      "virat\n",
      "45\n",
      "sehwag\n",
      "34\n",
      "sachin45\n",
      "45\n",
      "rahul\n",
      "54\n"
     ]
    }
   ],
   "source": [
    "n = int(input())  #number of lists\n",
    "\n",
    "res= [] \n",
    "grades = []\n",
    "for i in range(n):\n",
    "    \n",
    "    name = input()\n",
    "    marks = float(input())\n",
    "    \n",
    "    res.append([name,marks])       #creating list of lists\n",
    "    grades.append(marks)           #creating list of marks\n",
    "    \n",
    "sorted_marks = sorted(set(grades)) #sorting marks\n",
    "second_lowest = sorted_marks[1]    #second lowest\n",
    "\n",
    "second_lowest_names = []\n",
    "for i in res:\n",
    "    if second_lowest == i[1]:\n",
    "        second_lowest_names.append(i[0]) #creating list of names with second lowest marks\n",
    "        \n",
    "second_lowest_names.sort() #sorting the list of names with alphabetical order\n",
    "\n",
    "for name in second_lowest_names:\n",
    "    print(name)"
   ]
  },
  {
   "cell_type": "code",
   "execution_count": null,
   "id": "39380a35",
   "metadata": {},
   "outputs": [],
   "source": []
  }
 ],
 "metadata": {
  "kernelspec": {
   "display_name": "Python 3 (ipykernel)",
   "language": "python",
   "name": "python3"
  },
  "language_info": {
   "codemirror_mode": {
    "name": "ipython",
    "version": 3
   },
   "file_extension": ".py",
   "mimetype": "text/x-python",
   "name": "python",
   "nbconvert_exporter": "python",
   "pygments_lexer": "ipython3",
   "version": "3.9.7"
  }
 },
 "nbformat": 4,
 "nbformat_minor": 5
}
