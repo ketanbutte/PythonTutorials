{
 "cells": [
  {
   "cell_type": "code",
   "execution_count": 21,
   "id": "5b61c528",
   "metadata": {},
   "outputs": [],
   "source": [
    "def print_formatted(number):\n",
    "    \n",
    "    # your code goes here\n",
    "    \n",
    "    space = len('{0:b}'.format(number))\n",
    "#     print(space)\n",
    "    for i in range(1,number-1):\n",
    "        print(\"{0:{space}d}  {0:{space}o}  {0:{space}X} {0:{space}b} \".format(i,space=space))\n",
    "    \n",
    "    \n",
    "    \n",
    "    "
   ]
  },
  {
   "cell_type": "code",
   "execution_count": 22,
   "id": "e995cd19",
   "metadata": {},
   "outputs": [
    {
     "name": "stdout",
     "output_type": "stream",
     "text": [
      "   1     1     1    1 \n",
      "   2     2     2   10 \n",
      "   3     3     3   11 \n",
      "   4     4     4  100 \n",
      "   5     5     5  101 \n",
      "   6     6     6  110 \n",
      "   7     7     7  111 \n",
      "   8    10     8 1000 \n",
      "   9    11     9 1001 \n",
      "  10    12     A 1010 \n"
     ]
    }
   ],
   "source": [
    "print_formatted(12)"
   ]
  },
  {
   "cell_type": "code",
   "execution_count": null,
   "id": "5b4371d8",
   "metadata": {},
   "outputs": [],
   "source": []
  }
 ],
 "metadata": {
  "kernelspec": {
   "display_name": "Python 3 (ipykernel)",
   "language": "python",
   "name": "python3"
  },
  "language_info": {
   "codemirror_mode": {
    "name": "ipython",
    "version": 3
   },
   "file_extension": ".py",
   "mimetype": "text/x-python",
   "name": "python",
   "nbconvert_exporter": "python",
   "pygments_lexer": "ipython3",
   "version": "3.9.7"
  }
 },
 "nbformat": 4,
 "nbformat_minor": 5
}
