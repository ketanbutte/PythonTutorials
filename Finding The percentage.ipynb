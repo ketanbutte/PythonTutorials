{
 "cells": [
  {
   "cell_type": "code",
   "execution_count": 52,
   "id": "9c20c572",
   "metadata": {},
   "outputs": [
    {
     "name": "stdout",
     "output_type": "stream",
     "text": [
      "3\n",
      "Krishna 67 68 69\n",
      "Arjun 70 98 63\n",
      "Malika 52 56 60\n",
      "Malika\n",
      "56.00\n"
     ]
    }
   ],
   "source": [
    "if __name__ == '__main__':\n",
    "    n = int(input())\n",
    "    student_marks = {}\n",
    "    for i in range(n):\n",
    "        name, *line = input().split()\n",
    "        scores = list(map(float, line))\n",
    "        student_marks[name] = scores\n",
    "    query_name = input()\n",
    "\n",
    "    \n",
    "    list1 = student_marks.get(query_name)\n",
    "    \n",
    "    total = 0\n",
    "    for i in list1:\n",
    "        total += i\n",
    "        mean1 = total/3\n",
    "    print('{0:.2f}'.format(mean1))\n"
   ]
  },
  {
   "cell_type": "code",
   "execution_count": null,
   "id": "a625e75e",
   "metadata": {},
   "outputs": [],
   "source": [
    "test case\n",
    "# 3\n",
    "# Krishna 67 68 69\n",
    "# Arjun 70 98 63\n",
    "# Malika 52 56 60\n",
    "# Malika"
   ]
  }
 ],
 "metadata": {
  "kernelspec": {
   "display_name": "Python 3 (ipykernel)",
   "language": "python",
   "name": "python3"
  },
  "language_info": {
   "codemirror_mode": {
    "name": "ipython",
    "version": 3
   },
   "file_extension": ".py",
   "mimetype": "text/x-python",
   "name": "python",
   "nbconvert_exporter": "python",
   "pygments_lexer": "ipython3",
   "version": "3.9.7"
  }
 },
 "nbformat": 4,
 "nbformat_minor": 5
}
