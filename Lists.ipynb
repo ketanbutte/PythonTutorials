{
 "cells": [
  {
   "cell_type": "markdown",
   "id": "80d7c2ed",
   "metadata": {},
   "source": [
    "#### What is a list?\n",
    "\n",
    "A: It is collection of information in a specific order.\n",
    "\n",
    "#### What type of things can we store in a list?\n",
    "\n",
    "A: Numbers(Integers,Floats), Strings or Combination of them (Mix of Numbers & strings) & even list of lists\n",
    "\n",
    "#### When should I use Lists?\n",
    "\n",
    "1. **Collection of Data**: When you want store collection of data e.g age of students, name of team players, temperature of cities.  \n",
    "\n",
    "\n",
    "2. **Data in Required Order**: You want to store the data in a specific order, e.g country list in a specific order, countries with most population.  \n",
    "\n",
    "    (*Note*- By specific order, it does not mean list elements should be in descending or ascending or alphabetical order \n",
    "    rather you expect the list elements at a specific place.)\n",
    "    \n",
    "    \n",
    "3. **Mutable**: You should be able to make changes in collection of Data. e.g I completely forgot to add USA in list of countries. No problem, lists allow you to do that. **<u>Tuple</u>** is one such data type which does not allow changes in collection of data"
   ]
  }
 ],
 "metadata": {
  "kernelspec": {
   "display_name": "Python 3 (ipykernel)",
   "language": "python",
   "name": "python3"
  },
  "language_info": {
   "codemirror_mode": {
    "name": "ipython",
    "version": 3
   },
   "file_extension": ".py",
   "mimetype": "text/x-python",
   "name": "python",
   "nbconvert_exporter": "python",
   "pygments_lexer": "ipython3",
   "version": "3.9.7"
  }
 },
 "nbformat": 4,
 "nbformat_minor": 5
}
