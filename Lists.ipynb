{
 "cells": [
  {
   "cell_type": "markdown",
   "id": "298c4c3f",
   "metadata": {},
   "source": [
    "<h1><center>Introduction</center></h1>"
   ]
  },
  {
   "cell_type": "markdown",
   "id": "fb31367d",
   "metadata": {},
   "source": [
    "#### What is a list?\n",
    "\n",
    "A: It is collection of information in a specific order.\n",
    "\n",
    "#### What type of things can we store in a list?\n",
    "\n",
    "A: Numbers(Integers,Floats), Strings or Combination of them (Mix of Numbers & strings) & even list of lists\n",
    "\n",
    "#### When should I use Lists?\n",
    "\n",
    "1. **Collection of Data**: When you want store collection of data e.g age of students, name of team players, temperature of cities.  \n",
    "\n",
    "\n",
    "2. **Data in Required Order**: You want to store the data in a specific order, e.g country list in a specific order, countries with most population.  \n",
    "\n",
    "    (*Note*- By specific order, it does not mean list elements should be in descending or ascending or alphabetical order \n",
    "    rather you expect the list elements at a specific place.)\n",
    "    \n",
    "    \n",
    "3. **Mutable**: You should be able to make changes in collection of Data. e.g I completely forgot to add USA in list of countries. No problem, lists allow you to do that. **<u>Tuple</u>** is one such data type which does not allow changes in collection of data"
   ]
  },
  {
   "cell_type": "code",
   "execution_count": null,
   "id": "f78361ee",
   "metadata": {},
   "outputs": [],
   "source": []
  },
  {
   "cell_type": "code",
   "execution_count": 4,
   "id": "58a077d8",
   "metadata": {},
   "outputs": [],
   "source": [
    "vehicles = ['bajaj', 'hero', 'honda']"
   ]
  },
  {
   "cell_type": "code",
   "execution_count": 14,
   "id": "5ad24d47",
   "metadata": {},
   "outputs": [
    {
     "data": {
      "text/plain": [
       "'Bajaj'"
      ]
     },
     "execution_count": 14,
     "metadata": {},
     "output_type": "execute_result"
    }
   ],
   "source": [
    "vehicles[0].title()"
   ]
  },
  {
   "cell_type": "code",
   "execution_count": null,
   "id": "5c9fea02",
   "metadata": {},
   "outputs": [],
   "source": []
  },
  {
   "cell_type": "code",
   "execution_count": 7,
   "id": "afc6e907",
   "metadata": {},
   "outputs": [
    {
     "data": {
      "text/plain": [
       "['__add__',\n",
       " '__class__',\n",
       " '__class_getitem__',\n",
       " '__contains__',\n",
       " '__delattr__',\n",
       " '__delitem__',\n",
       " '__dir__',\n",
       " '__doc__',\n",
       " '__eq__',\n",
       " '__format__',\n",
       " '__ge__',\n",
       " '__getattribute__',\n",
       " '__getitem__',\n",
       " '__gt__',\n",
       " '__hash__',\n",
       " '__iadd__',\n",
       " '__imul__',\n",
       " '__init__',\n",
       " '__init_subclass__',\n",
       " '__iter__',\n",
       " '__le__',\n",
       " '__len__',\n",
       " '__lt__',\n",
       " '__mul__',\n",
       " '__ne__',\n",
       " '__new__',\n",
       " '__reduce__',\n",
       " '__reduce_ex__',\n",
       " '__repr__',\n",
       " '__reversed__',\n",
       " '__rmul__',\n",
       " '__setattr__',\n",
       " '__setitem__',\n",
       " '__sizeof__',\n",
       " '__str__',\n",
       " '__subclasshook__',\n",
       " 'append',\n",
       " 'clear',\n",
       " 'copy',\n",
       " 'count',\n",
       " 'extend',\n",
       " 'index',\n",
       " 'insert',\n",
       " 'pop',\n",
       " 'remove',\n",
       " 'reverse',\n",
       " 'sort']"
      ]
     },
     "execution_count": 7,
     "metadata": {},
     "output_type": "execute_result"
    }
   ],
   "source": [
    "dir(vehicles) # dir command returns list of the attributes and methods of any object like functions , modules, strings, lists, dictionaries "
   ]
  },
  {
   "cell_type": "code",
   "execution_count": null,
   "id": "2c5ffdc1",
   "metadata": {},
   "outputs": [],
   "source": [
    "main_actions = ['append','clear',\n",
    " 'copy',\n",
    " 'count',\n",
    " 'extend',\n",
    " 'index',\n",
    " 'insert',\n",
    " 'pop',\n",
    " 'remove',\n",
    " 'reverse',\n",
    " 'sort']"
   ]
  },
  {
   "cell_type": "code",
   "execution_count": null,
   "id": "36dff381",
   "metadata": {},
   "outputs": [],
   "source": [
    "print(main_actions)"
   ]
  },
  {
   "cell_type": "code",
   "execution_count": null,
   "id": "3d117f9d",
   "metadata": {},
   "outputs": [],
   "source": []
  }
 ],
 "metadata": {
  "kernelspec": {
   "display_name": "Python 3 (ipykernel)",
   "language": "python",
   "name": "python3"
  },
  "language_info": {
   "codemirror_mode": {
    "name": "ipython",
    "version": 3
   },
   "file_extension": ".py",
   "mimetype": "text/x-python",
   "name": "python",
   "nbconvert_exporter": "python",
   "pygments_lexer": "ipython3",
   "version": "3.9.7"
  }
 },
 "nbformat": 4,
 "nbformat_minor": 5
}
