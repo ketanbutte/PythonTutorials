{
 "cells": [
  {
   "cell_type": "code",
   "execution_count": 56,
   "id": "c59abab9",
   "metadata": {},
   "outputs": [
    {
     "name": "stdout",
     "output_type": "stream",
     "text": [
      "AABCAAADA\n",
      "3\n",
      "AB\n",
      "CA\n",
      "AD\n"
     ]
    }
   ],
   "source": [
    "def merge_the_tools(string, k):\n",
    "    # your code goes here\n",
    "    \n",
    "    words =[ ]\n",
    "    for i in range(0,len(string),n):\n",
    "        words.append(string[i:i+n])\n",
    "        \n",
    "    for i in words:\n",
    "    \n",
    "        uniue_char = []\n",
    "        for c in i:\n",
    "            if not c in uniue_char:\n",
    "                uniue_char.append(c)\n",
    "#     print(uniue_char)\n",
    "    \n",
    "        print(''.join((uniue_char)))\n",
    "    \n",
    "\n",
    "if __name__ == '__main__':\n",
    "    string, k = input(), int(input())\n",
    "    merge_the_tools(string, k)"
   ]
  },
  {
   "cell_type": "code",
   "execution_count": null,
   "id": "960997c7",
   "metadata": {},
   "outputs": [],
   "source": []
  }
 ],
 "metadata": {
  "kernelspec": {
   "display_name": "Python 3 (ipykernel)",
   "language": "python",
   "name": "python3"
  },
  "language_info": {
   "codemirror_mode": {
    "name": "ipython",
    "version": 3
   },
   "file_extension": ".py",
   "mimetype": "text/x-python",
   "name": "python",
   "nbconvert_exporter": "python",
   "pygments_lexer": "ipython3",
   "version": "3.9.7"
  }
 },
 "nbformat": 4,
 "nbformat_minor": 5
}
