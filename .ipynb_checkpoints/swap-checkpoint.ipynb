{
 "cells": [
  {
   "cell_type": "code",
   "execution_count": 43,
   "id": "1423f482",
   "metadata": {},
   "outputs": [
    {
     "name": "stdout",
     "output_type": "stream",
     "text": [
      "Awesome I am\n",
      "aWESOME i AM\n"
     ]
    }
   ],
   "source": [
    "def swap_case(s):\n",
    "    str1 = ''\n",
    "    for i in s:\n",
    "        if i.islower():\n",
    "            str1+=i.upper()\n",
    "        else:\n",
    "            str1+=i.lower()\n",
    "    \n",
    "    return str1\n",
    "\n",
    "if __name__ == '__main__':\n",
    "    s = input()\n",
    "    result = swap_case(s)\n",
    "    print(result)"
   ]
  },
  {
   "cell_type": "code",
   "execution_count": 41,
   "id": "e617a3c4",
   "metadata": {},
   "outputs": [],
   "source": [
    "str1 = ''\n",
    "for i in s:\n",
    "    if i.islower():\n",
    "        str1+=i.upper()\n",
    "    else:\n",
    "        str1+=i.lower()"
   ]
  },
  {
   "cell_type": "code",
   "execution_count": 42,
   "id": "f1d3fec6",
   "metadata": {},
   "outputs": [
    {
     "data": {
      "text/plain": [
       "'aWESOME i AM'"
      ]
     },
     "execution_count": 42,
     "metadata": {},
     "output_type": "execute_result"
    }
   ],
   "source": [
    "str1"
   ]
  },
  {
   "cell_type": "code",
   "execution_count": null,
   "id": "911a8840",
   "metadata": {},
   "outputs": [],
   "source": []
  }
 ],
 "metadata": {
  "kernelspec": {
   "display_name": "Python 3 (ipykernel)",
   "language": "python",
   "name": "python3"
  },
  "language_info": {
   "codemirror_mode": {
    "name": "ipython",
    "version": 3
   },
   "file_extension": ".py",
   "mimetype": "text/x-python",
   "name": "python",
   "nbconvert_exporter": "python",
   "pygments_lexer": "ipython3",
   "version": "3.9.7"
  }
 },
 "nbformat": 4,
 "nbformat_minor": 5
}
