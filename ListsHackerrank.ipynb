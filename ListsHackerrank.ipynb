{
 "cells": [
  {
   "cell_type": "code",
   "execution_count": 59,
   "id": "c42101f1",
   "metadata": {},
   "outputs": [
    {
     "name": "stdout",
     "output_type": "stream",
     "text": [
      "12\n",
      "insert 0 5\n",
      "insert 1 10\n",
      "insert 0 6\n",
      "print\n",
      "[6, 5, 10]\n",
      "remove 6\n",
      "append 9\n",
      "append 1\n",
      "sort\n",
      "print\n",
      "[1, 5, 9, 10]\n",
      "pop\n",
      "reverse\n",
      "print\n",
      "[9, 5, 1]\n"
     ]
    }
   ],
   "source": [
    "N = int(input())\n",
    "    \n",
    "lis1 = []\n",
    "for i in range(N):\n",
    "    entry = input()\n",
    "    split_list = entry.split()\n",
    "    method = split_list[0]\n",
    "    integers = split_list[1:]\n",
    "\n",
    "    for i in range(len(integers)):\n",
    "        integers[i] = int(integers[i])\n",
    "    \n",
    "    if method == 'append':\n",
    "        lis1.append(integers[i])\n",
    "    elif method == 'insert':\n",
    "        lis1.insert(integers[0],integers[1])\n",
    "    \n",
    "    elif method == 'remove':\n",
    "        lis1.remove(integers[i])\n",
    "    \n",
    "    elif method == 'print':\n",
    "        print(lis1)\n",
    "    \n",
    "    elif method == 'sort':\n",
    "        lis1.sort()\n",
    "        \n",
    "    elif method == 'pop':\n",
    "        lis1.pop()\n",
    "        \n",
    "    elif method == 'reverse':\n",
    "        lis1.reverse()"
   ]
  },
  {
   "cell_type": "code",
   "execution_count": 42,
   "id": "d7c93508",
   "metadata": {},
   "outputs": [
    {
     "data": {
      "text/plain": [
       "'append'"
      ]
     },
     "execution_count": 42,
     "metadata": {},
     "output_type": "execute_result"
    }
   ],
   "source": [
    "method"
   ]
  },
  {
   "cell_type": "code",
   "execution_count": 43,
   "id": "890d7ae3",
   "metadata": {},
   "outputs": [
    {
     "data": {
      "text/plain": [
       "[2, 90]"
      ]
     },
     "execution_count": 43,
     "metadata": {},
     "output_type": "execute_result"
    }
   ],
   "source": [
    "integers"
   ]
  },
  {
   "cell_type": "code",
   "execution_count": 44,
   "id": "58bdec24",
   "metadata": {},
   "outputs": [
    {
     "data": {
      "text/plain": [
       "['append', '2', '90']"
      ]
     },
     "execution_count": 44,
     "metadata": {},
     "output_type": "execute_result"
    }
   ],
   "source": [
    "entry.split()"
   ]
  },
  {
   "cell_type": "code",
   "execution_count": 58,
   "id": "5330381e",
   "metadata": {},
   "outputs": [
    {
     "data": {
      "text/plain": [
       "[343]"
      ]
     },
     "execution_count": 58,
     "metadata": {},
     "output_type": "execute_result"
    }
   ],
   "source": [
    "lis1"
   ]
  },
  {
   "cell_type": "code",
   "execution_count": null,
   "id": "19115d6b",
   "metadata": {},
   "outputs": [],
   "source": []
  }
 ],
 "metadata": {
  "kernelspec": {
   "display_name": "Python 3 (ipykernel)",
   "language": "python",
   "name": "python3"
  },
  "language_info": {
   "codemirror_mode": {
    "name": "ipython",
    "version": 3
   },
   "file_extension": ".py",
   "mimetype": "text/x-python",
   "name": "python",
   "nbconvert_exporter": "python",
   "pygments_lexer": "ipython3",
   "version": "3.9.7"
  }
 },
 "nbformat": 4,
 "nbformat_minor": 5
}
